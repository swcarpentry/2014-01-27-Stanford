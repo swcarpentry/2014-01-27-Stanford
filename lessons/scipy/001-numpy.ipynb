{
 "metadata": {
  "name": ""
 },
 "nbformat": 3,
 "nbformat_minor": 0,
 "worksheets": [
  {
   "cells": [
    {
     "cell_type": "markdown",
     "metadata": {},
     "source": [
      "# Scientific Python: Part 1\n",
      "## `numpy` for the win\n",
      "\n",
      "__Software Carpentry Bootcamp  \n",
      "Stanford, January 2014__  \n",
      "\n",
      "Prepared by: Ariel Rokem\n",
      "    \n",
      "Thanks to: Matt Davis, Justin Kitzes, Katy Huff, Matthew Terry"
     ]
    },
    {
     "cell_type": "markdown",
     "metadata": {},
     "source": [
      "## Reminder\n",
      "NumPy is a Python package implementing efficient collections of specific types of data (generally numerical), NumPy arrays differ from lists and tuples in that the data is contiguous in memory. A Python **list**, ```[0, 1, 2]```, in contrast, is actually an array of pointers to Python objects representing each number. This allows NumPy arrays to be considerably faster for numerical operations than Python lists/tuples."
     ]
    },
    {
     "cell_type": "markdown",
     "metadata": {},
     "source": [
      "To get all the tools we need here, we will use the `%pylab` magic function.\n",
      "\n",
      "This populates our namespace with many useful things. It's equivalent to doing something like: \n",
      "\n",
      "    from numpy import * \n",
      "    from matplotlib.pylab import *\n",
      "    import numpy as np\n",
      "    import matplotlib.pyplot as plt\n",
      "    \n",
      "And makes sure that the plots appear embedded inline in the notebook (we'll come back to that when we discuss matplotlib)."
     ]
    },
    {
     "cell_type": "code",
     "collapsed": true,
     "input": [
      "# We will start all our notebooks from now on with the pylab magic:\n",
      "%pylab inline"
     ],
     "language": "python",
     "metadata": {},
     "outputs": []
    },
    {
     "cell_type": "markdown",
     "metadata": {},
     "source": [
      "### Numpy arrays (ndarrays)\n",
      "\n",
      "Creating a NumPy array is as simple as passing a sequence to `numpy.array`:\n",
      "    \n",
      "Numpy arrays are collections of things, all of which must be the same type.\n",
      "\n",
      "The most important distinctions from other python collections are:\n",
      "\n",
      "1. You can easily perform elementwise operations (and matrix algebra) on arrays\n",
      "1. Arrays can be n-dimensional\n",
      "1. Arrays must be pre-allocated (ie, there is no equivalent to the list `append` method)\n",
      "\n",
      "Arrays can be created from existing collections such as lists, or instantiated \"from scratch\" in a \n",
      "few useful ways."
     ]
    },
    {
     "cell_type": "code",
     "collapsed": false,
     "input": [
      "# Instantiate an array with floating point numbers"
     ],
     "language": "python",
     "metadata": {},
     "outputs": []
    },
    {
     "cell_type": "markdown",
     "metadata": {},
     "source": [
      "You can also explicitly specify the data-type if the automatically-chosen one would be unsuitable."
     ]
    },
    {
     "cell_type": "code",
     "collapsed": false,
     "input": [
      "# Cast a list with floats into an integer dtype array:\n"
     ],
     "language": "python",
     "metadata": {},
     "outputs": []
    },
    {
     "cell_type": "markdown",
     "metadata": {},
     "source": [
      "As you might expect, creating a NumPy array this way can be slow, since it must manually convert each element of a list into its equivalent C type (int objects become C ints, etc). There are many other ways to create NumPy arrays, such as `np.identity`, `np.zeros`, `np.zeros_like`, or by manually specifying the dimensions and type of the array with the low-level creation function:"
     ]
    },
    {
     "cell_type": "markdown",
     "metadata": {},
     "source": [
      "For many of the examples below, we will be using `np.arange` which, similar to the Python built-in function `range`, returns a NumPy array\n",
      "of integers from 0 to N-1, inclusive. Like `range`, you can also specify a starting value and a step:"
     ]
    },
    {
     "cell_type": "code",
     "collapsed": false,
     "input": [
      "# Some more arrays: \n"
     ],
     "language": "python",
     "metadata": {},
     "outputs": []
    },
    {
     "cell_type": "markdown",
     "metadata": {},
     "source": [
      "### Exercise : Create an Array\n",
      "\n",
      "Create an array with values ranging from 0 to 10, in increments of 0.5. \n",
      "\n",
      "Reminder: get help by typing `np.arange?`, `np.ndarray?`, `np.array?`, etc. "
     ]
    },
    {
     "cell_type": "code",
     "collapsed": false,
     "input": [
      "# Make the array here: \n"
     ],
     "language": "python",
     "metadata": {},
     "outputs": []
    },
    {
     "cell_type": "markdown",
     "metadata": {},
     "source": [
      "## Arithmetic with arrays\n",
      "\n",
      "Since numpy exists to perform efficient numerical operations in Python, arrays have all the usual arithmetic operations available to them. These operations are performed element-wise (i.e. the same operation is performed independently on each element of the array)."
     ]
    },
    {
     "cell_type": "code",
     "collapsed": false,
     "input": [
      "# Operations between arrays \n"
     ],
     "language": "python",
     "metadata": {},
     "outputs": []
    },
    {
     "cell_type": "markdown",
     "metadata": {},
     "source": [
      "## What would happen if A and B did not have the same `shape`?"
     ]
    },
    {
     "cell_type": "code",
     "collapsed": false,
     "input": [
      "# Well, try it out! "
     ],
     "language": "python",
     "metadata": {},
     "outputs": []
    },
    {
     "cell_type": "markdown",
     "metadata": {},
     "source": [
      "## Arithmetic with scalars:\n",
      "In addition, if one of the arguments is a scalar, that value will be applied to all the elements of the array."
     ]
    },
    {
     "cell_type": "code",
     "collapsed": false,
     "input": [
      "# Perform scalar math on an array:\n"
     ],
     "language": "python",
     "metadata": {},
     "outputs": []
    },
    {
     "cell_type": "markdown",
     "metadata": {},
     "source": [
      "## How would you perform the calculations above with a Python list? "
     ]
    },
    {
     "cell_type": "markdown",
     "metadata": {},
     "source": [
      "## Linear algebra with arrays\n",
      "You can use arrays as vectors and matrices in linear algebra operations\n",
      "\n",
      "Specifically, you can perform matrix/vector multiplication between arrays, by using the `.dot` method, or the `np.dot` function:"
     ]
    },
    {
     "cell_type": "code",
     "collapsed": false,
     "input": [],
     "language": "python",
     "metadata": {},
     "outputs": []
    },
    {
     "cell_type": "markdown",
     "metadata": {},
     "source": [
      "__Note__: This is like the '`*`' operator in Matlab"
     ]
    },
    {
     "cell_type": "markdown",
     "metadata": {},
     "source": [
      "### Exercise : \n",
      "    \n",
      "Given two vectors in 3 dimensions:\n",
      "    \n",
      "    `a = [1, 2, 3]`\n",
      "   \n",
      "    `b = [4, 5, 6]`\n",
      "\n",
      "Find the angle between these vectors. Try to write the function assuming that you don't know how many dimensions the vectors will have"
     ]
    },
    {
     "cell_type": "code",
     "collapsed": false,
     "input": [],
     "language": "python",
     "metadata": {},
     "outputs": []
    },
    {
     "cell_type": "code",
     "collapsed": false,
     "input": [
      "rotation = calc_rotation(np.array([1, 2]), np.array([4, 5]))\n",
      "print(np.rad2deg(rotation))"
     ],
     "language": "python",
     "metadata": {},
     "outputs": []
    },
    {
     "cell_type": "code",
     "collapsed": false,
     "input": [
      "rotation_in_many_d = calc_rotation(np.array([1,2,3,4]), np.array([5,6,7,8]))\n",
      "print(np.rad2deg(rotation_in_many_d))"
     ],
     "language": "python",
     "metadata": {},
     "outputs": []
    },
    {
     "cell_type": "markdown",
     "metadata": {},
     "source": [
      "### Boolean operators work on arrays too, and they return boolean arrays\n",
      "Much like the basic arithmetic operations we discussed above, comparison operations are perfomed element-wise. That is, rather than returning a\n",
      "single boolean, comparison operators compare each element in both arrays pairwise, and return an `array` of booleans (if the sizes of the input\n",
      "arrays are incompatible, the comparison will simply return False). For example:"
     ]
    },
    {
     "cell_type": "code",
     "collapsed": false,
     "input": [
      "# Compare two arrays to each other\n"
     ],
     "language": "python",
     "metadata": {},
     "outputs": []
    },
    {
     "cell_type": "markdown",
     "metadata": {},
     "source": [
      "Note: You can use the methods `.any()` and `.all()` or the functions `np.any` and `np.all` to return a single boolean indicating whether any or all values in the array are `True`, respectively.\n"
     ]
    },
    {
     "cell_type": "code",
     "collapsed": false,
     "input": [
      "# Use .all, .any"
     ],
     "language": "python",
     "metadata": {},
     "outputs": []
    },
    {
     "cell_type": "markdown",
     "metadata": {},
     "source": [
      "### Indexing arrays\n",
      "\n",
      "In addition to the usual methods of indexing lists with an integer (or with a series of colon-separated integers for a slice), numpy allows you\n",
      "to index arrays in a wide variety of different ways for more advanced operations.\n",
      "\n",
      "First, the simple way:"
     ]
    },
    {
     "cell_type": "code",
     "collapsed": false,
     "input": [],
     "language": "python",
     "metadata": {},
     "outputs": []
    },
    {
     "cell_type": "markdown",
     "metadata": {},
     "source": [
      "### What happens if the array has more than one dimension? "
     ]
    },
    {
     "cell_type": "code",
     "collapsed": false,
     "input": [
      "# Indexing into multi-D arrays:\n"
     ],
     "language": "python",
     "metadata": {},
     "outputs": []
    },
    {
     "cell_type": "markdown",
     "metadata": {},
     "source": [
      "## Exercise\n",
      "We can manipulate the shape of an array as follows: \n",
      "  `A = np.arange(16).reshape(4, 4)`\n",
      "Or even:\n",
      "  `A = np.reshape(numpy.arange(16), (4, 4))`\n",
      "    \n",
      "Using what we've learned about slicing and indexing, create a function that takes an integer as input, creates a square n-by-n array with integers from `0` to $n^{2}-1$ (like `A`) and prints just the upper-left quarter of the array\n",
      "\n",
      "For example, for 4, the desired output would be: \n",
      "    \n",
      "     array([[0, 1],\n",
      "            [4, 5]])"
     ]
    },
    {
     "cell_type": "code",
     "collapsed": false,
     "input": [],
     "language": "python",
     "metadata": {},
     "outputs": []
    },
    {
     "cell_type": "code",
     "collapsed": false,
     "input": [
      "get_the_corner(4)"
     ],
     "language": "python",
     "metadata": {},
     "outputs": []
    },
    {
     "cell_type": "markdown",
     "metadata": {},
     "source": [
      "### Arrays can also be indexed with other arrays\n",
      "\n",
      "Arrays can be indexed with other arrays, using either an array of indices, or an array of booleans of the same length. In the former case, numpy returns a view of the data in the specified indices as a new array. In the latter, numpy returns a view of the array with only the elements where the index array is True. (We'll discuss the difference between views and copies in a moment.) This makes normally-tedious operations like clamping extremely simple.\n",
      "\n",
      "Indexing with an array of indices:\n"
     ]
    },
    {
     "cell_type": "code",
     "collapsed": false,
     "input": [
      "# Create an array and index into it with an array of integers:\n"
     ],
     "language": "python",
     "metadata": {},
     "outputs": []
    },
    {
     "cell_type": "markdown",
     "metadata": {},
     "source": [
      "Indexing with a boolean array:"
     ]
    },
    {
     "cell_type": "code",
     "collapsed": false,
     "input": [
      "# Create an array and index into it with a boolean array\n"
     ],
     "language": "python",
     "metadata": {},
     "outputs": []
    },
    {
     "cell_type": "markdown",
     "metadata": {},
     "source": [
      "A few more examples:"
     ]
    },
    {
     "cell_type": "code",
     "collapsed": false,
     "input": [
      "# There are handy ways to make arrays full of ones and zeros\n",
      "\n",
      "# And make the identity matrix:\n",
      "\n",
      "# If you know you are going to fill it with values, the fastest way to get an array is using `empty`, but caveat emptor:\n"
     ],
     "language": "python",
     "metadata": {},
     "outputs": []
    },
    {
     "cell_type": "markdown",
     "metadata": {},
     "source": [
      "### More math with `numpy`: Solving a System of Linear Equations"
     ]
    },
    {
     "cell_type": "code",
     "collapsed": false,
     "input": [],
     "language": "python",
     "metadata": {},
     "outputs": []
    },
    {
     "cell_type": "markdown",
     "metadata": {},
     "source": [
      "The same problem can be solved with `dot` multiplication:"
     ]
    },
    {
     "cell_type": "code",
     "collapsed": false,
     "input": [],
     "language": "python",
     "metadata": {},
     "outputs": []
    },
    {
     "cell_type": "markdown",
     "metadata": {},
     "source": [
      "### Universal functions \n",
      "\n",
      "Universal functions (also called ufuncs) are high-speed, element-wise operations on NumPy arrays. They are, in essence, what allows you to operate on NumPy arrays efficiently. There are a large number of universal functions available covering most of the basic operations that get performed on data, like addition, subtraction, logarithms, and so on. Calling a ufunc is a simple matter:"
     ]
    },
    {
     "cell_type": "code",
     "collapsed": false,
     "input": [],
     "language": "python",
     "metadata": {},
     "outputs": []
    },
    {
     "cell_type": "markdown",
     "metadata": {},
     "source": [
      "In addition to basic operation like above, ufuncs that take two input arrays and return an output array can be used in more advanced ways.\n",
      "\n",
      "### Exercise : Elementwise Operations\n",
      "\n",
      "Using ufuncs, calculate the reciprocals of each element in the following array:\n",
      "  \n",
      "  [8.1, 1.6, 0.9, 4.3, 7.0, 7.3, 4.7, 8.2, 7.2, 3.0,\n",
      "  1.4, 9.8, 5.7, 0.7, 8.7, 4.6, 8.8, 0.9, 4.4, 4.4]\n",
      "\n",
      "Is it really faster than using other ways? Use the `%%timeit` magic to demonstrate"
     ]
    },
    {
     "cell_type": "code",
     "collapsed": false,
     "input": [
      "my_array = np.array([8.1, 1.6, 0.9, 4.3, 7.0, 7.3, 4.7, 8.2, 7.2, 3.0,\n",
      "                     1.4, 9.8, 5.7, 0.7, 8.7, 4.6, 8.8, 0.9, 4.4, 4.4])"
     ],
     "language": "python",
     "metadata": {},
     "outputs": []
    },
    {
     "cell_type": "code",
     "collapsed": false,
     "input": [],
     "language": "python",
     "metadata": {},
     "outputs": []
    },
    {
     "cell_type": "code",
     "collapsed": false,
     "input": [],
     "language": "python",
     "metadata": {},
     "outputs": []
    }
   ],
   "metadata": {}
  }
 ]
}