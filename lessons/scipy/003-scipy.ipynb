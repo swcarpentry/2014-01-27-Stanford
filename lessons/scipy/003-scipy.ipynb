{
 "metadata": {
  "name": ""
 },
 "nbformat": 3,
 "nbformat_minor": 0,
 "worksheets": [
  {
   "cells": [
    {
     "cell_type": "markdown",
     "metadata": {},
     "source": [
      "# Scientific Python: Part 3 \n",
      "## Introducing `scipy` and the scientific Python universe\n",
      "\n",
      "__Software Carpentry Bootcamp  \n",
      "Stanford, January 2014__  \n",
      "\n",
      "Prepared by: Ariel Rokem\n",
      "    \n",
      "Thanks to: Matt Davis, Justin Kitzes, Katy Huff, Matthew Terry"
     ]
    },
    {
     "cell_type": "markdown",
     "metadata": {},
     "source": [
      "Scipy is a huge library of scientific software. It includes many useful things, such as functions for statistics, for signal processing, image processing, etc. \n",
      "\n",
      "Because it's very large, importing it doesn't actually bring in all of its modules and those need to be imported individually. "
     ]
    },
    {
     "cell_type": "code",
     "collapsed": false,
     "input": [
      "%pylab inline"
     ],
     "language": "python",
     "metadata": {},
     "outputs": []
    },
    {
     "cell_type": "code",
     "collapsed": false,
     "input": [
      "# We import scipy and examine it \n",
      "import scipy\n",
      "#scipy?\n",
      "#scipy."
     ],
     "language": "python",
     "metadata": {},
     "outputs": []
    },
    {
     "cell_type": "markdown",
     "metadata": {},
     "source": [
      "Note that there is not a lot there. Per default, importing scipy will only import part of the library. That is because it is a large library and you are only likely to need some part of it"
     ]
    },
    {
     "cell_type": "markdown",
     "metadata": {},
     "source": [
      "\n",
      "- `scipy.cluster` : Vector quantization / Kmeans\n",
      "- `scipy.constants` : Physical and mathematical constants\n",
      "- __`scipy.fftpack` : Fourier transform__\n",
      "- __`scipy.integrate` : Integration routines__\n",
      "- `scipy.interpolate` : Interpolation\n",
      "- __`scipy.io` : Data input and output__\n",
      "- `scipy.linalg` : Linear algebra routines\n",
      "- __`scipy.ndimage` : n-dimensional image package__\n",
      "- `scipy.odr` : Orthogonal distance regression\n",
      "- `scipy.optimize` : Optimization\n",
      "- `scipy.signal` : Signal processing\n",
      "- `scipy.sparse` : Sparse matrices\n",
      "- `scipy.spatial` : Spatial data structures and algorithms\n",
      "- `scipy.special` : Any special mathematical functions\n",
      "- __`scipy.stats` : Statistics__\n"
     ]
    },
    {
     "cell_type": "markdown",
     "metadata": {},
     "source": [
      "## `scipy.io`\n",
      "\n",
      "A module for input/output of files"
     ]
    },
    {
     "cell_type": "markdown",
     "metadata": {},
     "source": [
      "Let's first take a look at the standard Python file I/O:"
     ]
    },
    {
     "cell_type": "code",
     "collapsed": false,
     "input": [
      "# We open a file for reading:\n"
     ],
     "language": "python",
     "metadata": {},
     "outputs": []
    },
    {
     "cell_type": "code",
     "collapsed": false,
     "input": [
      "# We can read the file one line at a time\n",
      "\n",
      "# Or all together:\n"
     ],
     "language": "python",
     "metadata": {},
     "outputs": []
    },
    {
     "cell_type": "code",
     "collapsed": false,
     "input": [
      "# Don't forget to close the file when you are done with it:\n"
     ],
     "language": "python",
     "metadata": {},
     "outputs": []
    },
    {
     "cell_type": "markdown",
     "metadata": {},
     "source": [
      "For csv files, there are other options, let's take a look at `mlab.csv2rec`"
     ]
    },
    {
     "cell_type": "code",
     "collapsed": false,
     "input": [
      "# Read it in:\n",
      "\n",
      "# This is not a regular numpy array!\n"
     ],
     "language": "python",
     "metadata": {},
     "outputs": []
    },
    {
     "cell_type": "code",
     "collapsed": false,
     "input": [
      "# But it makes some operations very easy to do:\n"
     ],
     "language": "python",
     "metadata": {},
     "outputs": []
    },
    {
     "cell_type": "markdown",
     "metadata": {},
     "source": [
      "Scipy has it's own file I/O module: "
     ]
    },
    {
     "cell_type": "code",
     "collapsed": false,
     "input": [
      "from scipy import io as sio"
     ],
     "language": "python",
     "metadata": {},
     "outputs": []
    },
    {
     "cell_type": "markdown",
     "metadata": {},
     "source": [
      "It can be used to read and write files that matlab understands:"
     ]
    },
    {
     "cell_type": "code",
     "collapsed": false,
     "input": [
      "# Write out and then read in a mat-file\n"
     ],
     "language": "python",
     "metadata": {},
     "outputs": []
    },
    {
     "cell_type": "markdown",
     "metadata": {},
     "source": [
      "For simple cases, you can also use `np.loadtxt`"
     ]
    },
    {
     "cell_type": "code",
     "collapsed": false,
     "input": [],
     "language": "python",
     "metadata": {},
     "outputs": []
    },
    {
     "cell_type": "markdown",
     "metadata": {},
     "source": [
      "Things get much more complicated with binary formats. If you are handling these kinds of files, be sure to take look at the stdlib `struct` module. And take a deep breath."
     ]
    },
    {
     "cell_type": "markdown",
     "metadata": {},
     "source": [
      "## Exercise\n",
      "\n",
      "Write a function that takes a weather file and writes out a text file with the temperatures in days when the temperatures went below freezing\n",
      "\n",
      "__HINT__: There are many ways to do this. One of them could use a function called `np.savetxt`"
     ]
    },
    {
     "cell_type": "markdown",
     "metadata": {},
     "source": [
      "__MORE__: For tabular data, use [pandas](http://pandas.pydata.org/)\n",
      "\n",
      "Take a look at the intro-to-pandas notebook in the same directory "
     ]
    },
    {
     "cell_type": "markdown",
     "metadata": {},
     "source": [
      "## `scipy.special`"
     ]
    },
    {
     "cell_type": "markdown",
     "metadata": {},
     "source": [
      "There are a lot of gems hidden in the `special` and `misc` modules"
     ]
    },
    {
     "cell_type": "code",
     "collapsed": false,
     "input": [
      "import scipy.special as sps"
     ],
     "language": "python",
     "metadata": {},
     "outputs": []
    },
    {
     "cell_type": "code",
     "collapsed": false,
     "input": [],
     "language": "python",
     "metadata": {},
     "outputs": []
    },
    {
     "cell_type": "markdown",
     "metadata": {},
     "source": [
      "## `scipy.fft` and `scipy.ndimage`"
     ]
    },
    {
     "cell_type": "code",
     "collapsed": false,
     "input": [
      "# Take a look at the misc module. We'll also use FFT:\n",
      "import scipy.misc as misc\n",
      "import scipy.fftpack as fft"
     ],
     "language": "python",
     "metadata": {},
     "outputs": []
    },
    {
     "cell_type": "code",
     "collapsed": false,
     "input": [],
     "language": "python",
     "metadata": {},
     "outputs": []
    },
    {
     "cell_type": "code",
     "collapsed": false,
     "input": [],
     "language": "python",
     "metadata": {},
     "outputs": []
    },
    {
     "cell_type": "markdown",
     "metadata": {},
     "source": [
      "## Exercise : Denoise the moonlanding\n",
      "\n",
      "The image of the moon-landing is badly corrupted by high-frequency peridoic noise. Using the functions in `scipy.fft`, \n",
      "\n",
      "Hints:\n",
      "\n",
      "1. `scipy.fft.fft2` is a 2D version of the Fourier transform \n",
      "1. The output of the FFT algorithms has the negative frequencies head-to-tail with the positive frequencies. Use `scipy.fft.fftshift2` to get a more intuitive view of the spectrum"
     ]
    },
    {
     "cell_type": "code",
     "collapsed": false,
     "input": [
      "from scipy import fftpack as fft"
     ],
     "language": "python",
     "metadata": {},
     "outputs": []
    },
    {
     "cell_type": "code",
     "collapsed": false,
     "input": [],
     "language": "python",
     "metadata": {},
     "outputs": []
    },
    {
     "cell_type": "code",
     "collapsed": false,
     "input": [],
     "language": "python",
     "metadata": {},
     "outputs": []
    },
    {
     "cell_type": "code",
     "collapsed": false,
     "input": [],
     "language": "python",
     "metadata": {},
     "outputs": []
    },
    {
     "cell_type": "code",
     "collapsed": false,
     "input": [],
     "language": "python",
     "metadata": {},
     "outputs": []
    },
    {
     "cell_type": "code",
     "collapsed": false,
     "input": [],
     "language": "python",
     "metadata": {},
     "outputs": []
    },
    {
     "cell_type": "code",
     "collapsed": false,
     "input": [],
     "language": "python",
     "metadata": {},
     "outputs": []
    },
    {
     "cell_type": "code",
     "collapsed": false,
     "input": [],
     "language": "python",
     "metadata": {},
     "outputs": []
    },
    {
     "cell_type": "code",
     "collapsed": false,
     "input": [
      "from scipy import signal"
     ],
     "language": "python",
     "metadata": {},
     "outputs": []
    },
    {
     "cell_type": "code",
     "collapsed": false,
     "input": [],
     "language": "python",
     "metadata": {},
     "outputs": []
    },
    {
     "cell_type": "code",
     "collapsed": false,
     "input": [],
     "language": "python",
     "metadata": {},
     "outputs": []
    },
    {
     "cell_type": "markdown",
     "metadata": {},
     "source": [
      "For more sophisticated image processing see: [scikit image](http://scikit-image.org/)"
     ]
    },
    {
     "cell_type": "markdown",
     "metadata": {},
     "source": [
      "## Numerical integration\n",
      "\n"
     ]
    },
    {
     "cell_type": "code",
     "collapsed": false,
     "input": [
      "import scipy.integrate as spi"
     ],
     "language": "python",
     "metadata": {},
     "outputs": []
    },
    {
     "cell_type": "code",
     "collapsed": false,
     "input": [],
     "language": "python",
     "metadata": {},
     "outputs": []
    },
    {
     "cell_type": "markdown",
     "metadata": {},
     "source": [
      "As an example with scipy.integrate.odeint, we will look at a damped spring-mass oscillator (2nd order oscillator). \n",
      "\n",
      "The position of a mass attached to a spring obeys the 2nd order ODE: \n",
      "\n",
      "$\\frac{\\delta^2 y}{\\delta t} + 2 \\epsilon \\omega_0 \\frac{\\delta y}{\\delta t} + \\omega_0^2 y = 0$ \n",
      "\n",
      "\n",
      "with $\\omega_0^2 = \\frac{k}{m}$ with $k$ the spring constant, $m$ the mass and $\\epsilon = \\frac{c}{2 m \\omega_0}$ with $c$ the damping coefficient. For this example, we choose the parameters as:"
     ]
    },
    {
     "cell_type": "code",
     "collapsed": false,
     "input": [
      "mass = 0.5  # kg\n",
      "kspring = 4  # N/m\n",
      "cviscous = 0.4  # N s/m"
     ],
     "language": "python",
     "metadata": {},
     "outputs": []
    },
    {
     "cell_type": "code",
     "collapsed": false,
     "input": [
      "# Calculate epsilon:\n"
     ],
     "language": "python",
     "metadata": {},
     "outputs": []
    },
    {
     "cell_type": "code",
     "collapsed": false,
     "input": [
      "# Calculate the coefficients, relative to the mass\n"
     ],
     "language": "python",
     "metadata": {},
     "outputs": []
    },
    {
     "cell_type": "code",
     "collapsed": false,
     "input": [
      "# Let's look at the help for spi.odeint:\n",
      "# spi.odeint?"
     ],
     "language": "python",
     "metadata": {},
     "outputs": []
    },
    {
     "cell_type": "code",
     "collapsed": false,
     "input": [
      "# Write down the function that calculates the derivative. We will feed that into the integrator\n"
     ],
     "language": "python",
     "metadata": {},
     "outputs": []
    },
    {
     "cell_type": "code",
     "collapsed": false,
     "input": [
      "# Allocate time-points to calculate this over:\n"
     ],
     "language": "python",
     "metadata": {},
     "outputs": []
    },
    {
     "cell_type": "code",
     "collapsed": false,
     "input": [],
     "language": "python",
     "metadata": {},
     "outputs": []
    },
    {
     "cell_type": "code",
     "collapsed": false,
     "input": [],
     "language": "python",
     "metadata": {},
     "outputs": []
    },
    {
     "cell_type": "markdown",
     "metadata": {},
     "source": [
      "For symbolic math use [sympy](http://sympy.org/en/index.html)"
     ]
    },
    {
     "cell_type": "markdown",
     "metadata": {},
     "source": [
      "## `scipy.stats`"
     ]
    },
    {
     "cell_type": "code",
     "collapsed": false,
     "input": [
      "# We can use np.random to generate random collections of numbers\n",
      "# Using np.histrogram we will derive the empirical pdf:\n",
      "\n",
      "\n",
      "# Reminder, need to transform the bins:  bins = 0.5*(bins[1:] + bins[:-1])\n",
      "# Similarly, using scipy.stats, we can generate the theoretical pdf:\n"
     ],
     "language": "python",
     "metadata": {},
     "outputs": []
    },
    {
     "cell_type": "code",
     "collapsed": false,
     "input": [
      "# Compare the two in a plot:\n"
     ],
     "language": "python",
     "metadata": {},
     "outputs": []
    },
    {
     "cell_type": "code",
     "collapsed": false,
     "input": [
      "# Fit the distribution parameters\n",
      "loc, std = stats.norm.fit(a)"
     ],
     "language": "python",
     "metadata": {},
     "outputs": []
    },
    {
     "cell_type": "code",
     "collapsed": false,
     "input": [
      "print(loc)\n",
      "print(std)"
     ],
     "language": "python",
     "metadata": {},
     "outputs": []
    },
    {
     "cell_type": "markdown",
     "metadata": {},
     "source": [
      "## For more statistic, take a look at the `scikit`s:\n",
      "\n",
      "- [scikit learn](http://scikit-learn.org/stable/)\n",
      "\n",
      "- [scikit statsmodels](http://statsmodels.sourceforge.net/)"
     ]
    },
    {
     "cell_type": "code",
     "collapsed": false,
     "input": [
      "%loadpy http://scikit-learn.org/stable/_downloads/plot_cluster_iris.py"
     ],
     "language": "python",
     "metadata": {},
     "outputs": []
    },
    {
     "cell_type": "code",
     "collapsed": false,
     "input": [],
     "language": "python",
     "metadata": {},
     "outputs": []
    },
    {
     "cell_type": "code",
     "collapsed": false,
     "input": [],
     "language": "python",
     "metadata": {},
     "outputs": []
    }
   ],
   "metadata": {}
  }
 ]
}